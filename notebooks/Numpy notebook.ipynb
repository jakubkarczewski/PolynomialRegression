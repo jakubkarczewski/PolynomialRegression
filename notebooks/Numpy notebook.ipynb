{
 "cells": [
  {
   "cell_type": "markdown",
   "metadata": {},
   "source": [
    "POLYNOMIAL REGRESSION WITH ANN IN NUMPY YO"
   ]
  },
  {
   "cell_type": "code",
   "execution_count": 2,
   "metadata": {},
   "outputs": [],
   "source": [
    "# todo fix gradient problem"
   ]
  },
  {
   "cell_type": "code",
   "execution_count": 3,
   "metadata": {},
   "outputs": [],
   "source": [
    "# Python imports\n",
    "import numpy as np  # Matrix and vector computation package\n",
    "np.seterr(all='ignore') # ignore numpy warning like multiplication of inf\n",
    "import matplotlib.pyplot as plt  # Plotting library\n",
    "# Allow matplotlib to plot inside this notebook\n",
    "%matplotlib inline\n",
    "# Set the seed of the numpy random number generator so that the tutorial is reproducable\n",
    "numpy.random.seed(seed=1)"
   ]
  },
  {
   "cell_type": "code",
   "execution_count": 4,
   "metadata": {},
   "outputs": [
    {
     "data": {
      "image/png": "[encoded data removed]",
      "text/plain": [
       "<Figure size 432x288 with 1 Axes>"
      ]
     },
     "metadata": {},
     "output_type": "display_data"
    }
   ],
   "source": [
    "# Define the vector of input samples as x, with 20 values sampled from a uniform distribution\n",
    "# between 0 and 1\n",
    "x = numpy.random.uniform(0, 1, 50)\n",
    "\n",
    "# Generate the target values t from x with small gaussian noise so the estimation won't\n",
    "# be perfect.\n",
    "# Define a function f that represents the line that generates t without noise\n",
    "def f(x): return x ** 3 - 22 * x ** 2 + 32 * x + 20.5\n",
    "\n",
    "# Create the targets t with some gaussian noise\n",
    "noise_variance = 0.2  # Variance of the gaussian noise\n",
    "# Gaussian noise error for each sample in x\n",
    "noise = numpy.random.randn(x.shape[0]) * noise_variance\n",
    "# Create targets t\n",
    "t = f(x) + noise\n",
    "\n",
    "# Plot the target t versus the input x\n",
    "plt.plot(x, t, 'o', label='t')\n",
    "# Plot the initial line\n",
    "plt.xlabel('$x$', fontsize=15)\n",
    "plt.ylabel('$t$', fontsize=15)\n",
    "plt.title('inputs (x) vs targets (t)')\n",
    "plt.grid()\n",
    "plt.legend(loc=2)\n",
    "plt.show()"
   ]
  },
  {
   "cell_type": "code",
   "execution_count": 5,
   "metadata": {},
   "outputs": [],
   "source": [
    "# Define the neural network function as polynomial of a given degree (w is a list)\n",
    "def nn(x, w): return x ** 3 * w[3] + x ** 2 * w[2] + x * w[1] + w[0]\n",
    "\n",
    "# Define the cost function\n",
    "def cost(y, t): return ((t - y)**2).sum()"
   ]
  },
  {
   "cell_type": "code",
   "execution_count": 26,
   "metadata": {},
   "outputs": [
    {
     "name": "stdout",
     "output_type": "stream",
     "text": [
      "[1.  0.1 0.1 0.1 0.1]\n",
      "przerwa\n",
      "[-1.20467172e+00 -2.24587948e+00 -2.21537148e-04 -8.20733081e-01\n",
      " -3.44655055e-01 -2.05959011e-01 -4.65888281e-01 -9.69986328e-01\n",
      " -1.13855007e+00 -1.62913219e+00 -1.21170976e+00 -2.16598083e+00\n",
      " -5.13503987e-01 -2.71802373e+00 -5.58577879e-02 -2.12167289e+00\n",
      " -1.21239113e+00 -1.71542501e+00 -3.31387718e-01 -4.93048608e-01\n",
      " -2.49087579e+00 -2.94499173e+00 -8.56060957e-01 -2.17446802e+00\n",
      " -2.73927137e+00 -2.78951351e+00 -1.88039068e-01 -8.15823991e-02\n",
      " -4.09863688e-01 -2.75128208e+00 -2.21545447e-01 -1.22213407e+00\n",
      " -2.93760724e+00 -1.61799675e+00 -2.18053011e+00 -8.73887528e-01\n",
      " -2.17705314e+00 -2.58514115e+00 -3.61873567e-02 -2.34589501e+00\n",
      " -2.99986167e+00 -2.36032129e+00 -7.51337557e-01 -2.44271179e+00\n",
      " -2.32229300e-01 -1.32580131e+00 -2.81307819e+00 -7.96758687e-01\n",
      " -7.72009514e-01 -3.02135486e-01]\n"
     ]
    },
    {
     "ename": "ValueError",
     "evalue": "operands could not be broadcast together with shapes (5,) (50,) ",
     "output_type": "error",
     "traceback": [
      "\u001b[0;31m---------------------------------------------------------------------------\u001b[0m",
      "\u001b[0;31mValueError\u001b[0m                                Traceback (most recent call last)",
      "\u001b[0;32m<ipython-input-26-895479d3ddc7>\u001b[0m in \u001b[0;36m<module>\u001b[0;34m()\u001b[0m\n\u001b[1;32m     21\u001b[0m     \u001b[0;32mprint\u001b[0m\u001b[0;34m(\u001b[0m\u001b[0;34m'przerwa'\u001b[0m\u001b[0;34m)\u001b[0m\u001b[0;34m\u001b[0m\u001b[0m\n\u001b[1;32m     22\u001b[0m     \u001b[0;32mprint\u001b[0m\u001b[0;34m(\u001b[0m\u001b[0mdw\u001b[0m\u001b[0;34m)\u001b[0m\u001b[0;34m\u001b[0m\u001b[0m\n\u001b[0;32m---> 23\u001b[0;31m     \u001b[0mw\u001b[0m \u001b[0;34m=\u001b[0m \u001b[0mw\u001b[0m \u001b[0;34m-\u001b[0m \u001b[0mdw\u001b[0m  \u001b[0;31m# Update the current weight parameter\u001b[0m\u001b[0;34m\u001b[0m\u001b[0m\n\u001b[0m\u001b[1;32m     24\u001b[0m     \u001b[0mw_cost\u001b[0m\u001b[0;34m.\u001b[0m\u001b[0mappend\u001b[0m\u001b[0;34m(\u001b[0m\u001b[0;34m(\u001b[0m\u001b[0mw\u001b[0m\u001b[0;34m,\u001b[0m \u001b[0mcost\u001b[0m\u001b[0;34m(\u001b[0m\u001b[0mnn\u001b[0m\u001b[0;34m(\u001b[0m\u001b[0mx\u001b[0m\u001b[0;34m,\u001b[0m \u001b[0mw\u001b[0m\u001b[0;34m)\u001b[0m\u001b[0;34m,\u001b[0m \u001b[0mt\u001b[0m\u001b[0;34m)\u001b[0m\u001b[0;34m)\u001b[0m\u001b[0;34m)\u001b[0m  \u001b[0;31m# Add weight,cost to list\u001b[0m\u001b[0;34m\u001b[0m\u001b[0m\n\u001b[1;32m     25\u001b[0m \u001b[0;34m\u001b[0m\u001b[0m\n",
      "\u001b[0;31mValueError\u001b[0m: operands could not be broadcast together with shapes (5,) (50,) "
     ]
    }
   ],
   "source": [
    "\n",
    "# define the gradient function.\n",
    "def gradient(w, x, t): \n",
    "    return (nn(x, w) - t).T * x\n",
    "\n",
    "# define the update function delta w (the update should be a vector)\n",
    "def delta_w(w_k, x, t, learning_rate):\n",
    "    return learning_rate * gradient(w_k, x, t)\n",
    "\n",
    "w = np.array([1, 0.1, 0.1, 0.1, 0.1])\n",
    "    \n",
    "learning_rate = 0.1\n",
    "\n",
    "\n",
    "# Start performing the gradient descent updates, and print the weights and cost:\n",
    "nb_of_iterations = 100  # number of gradient descent updates\n",
    "w_cost = [(w, cost(nn(x, w), t))] # List to store the weight,costs values\n",
    "for i in range(nb_of_iterations):\n",
    "    dw = delta_w(w, x, t, learning_rate)  # Get the delta w update\n",
    "    print(w)\n",
    "    print('przerwa')\n",
    "    print(dw)\n",
    "    w = w - dw  # Update the current weight parameter\n",
    "    w_cost.append((w, cost(nn(x, w), t)))  # Add weight,cost to list\n",
    "\n",
    "# # Print the final w, and cost\n",
    "# for i in range(0, len(w_cost)):\n",
    "#     print('w({}): {:.4f} \\t cost: {:.4f}'.format(i, w_cost[i][0], w_cost[i][1]))\n",
    "# for w in w_cost:\n",
    "#     print(w[0])\n",
    "\n",
    "\n"
   ]
  },
  {
   "cell_type": "code",
   "execution_count": null,
   "metadata": {},
   "outputs": [],
   "source": []
  }
 ],
 "metadata": {
  "kernelspec": {
   "display_name": "Python 2",
   "language": "python",
   "name": "python2"
  },
  "language_info": {
   "codemirror_mode": {
    "name": "ipython",
    "version": 2
   },
   "file_extension": ".py",
   "mimetype": "text/x-python",
   "name": "python",
   "nbconvert_exporter": "python",
   "pygments_lexer": "ipython2",
   "version": "2.7.12"
  }
 },
 "nbformat": 4,
 "nbformat_minor": 2
}
