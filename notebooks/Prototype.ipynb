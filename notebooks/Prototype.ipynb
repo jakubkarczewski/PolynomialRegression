{
 "cells": [
  {
   "cell_type": "code",
   "execution_count": 29,
   "metadata": {},
   "outputs": [],
   "source": [
    "# read data\n",
    "import numpy as np\n",
    "import pandas as pd\n",
    "\n",
    "path = '/home/kuba/Development/Quantum/tensorflow/ai-task-samples.csv'\n",
    "dataset = pd.read_csv(path, names=['x', 'y'], header=None)\n",
    "xs = dataset['x'].as_matrix()\n",
    "ys = dataset['y'].as_matrix()\n",
    "\n",
    "xs /= np.max(np.abs(xs), axis=0)\n",
    "ys /= np.max(np.abs(ys), axis=0)\n",
    "\n",
    "n_observations = ys.shape[0]"
   ]
  },
  {
   "cell_type": "code",
   "execution_count": 7,
   "metadata": {},
   "outputs": [
    {
     "data": {
      "image/png": "[encoded data removed]",
      "text/plain": [
       "<Figure size 432x288 with 1 Axes>"
      ]
     },
     "metadata": {},
     "output_type": "display_data"
    }
   ],
   "source": [
    "# plot data\n",
    "import matplotlib.pyplot as plt\n",
    "%matplotlib inline\n",
    "# Plot the target t versus the input x\n",
    "plt.plot(xs, ys, 'o', label='ys')\n",
    "# Plot the initial line\n",
    "plt.xlabel('$xs$', fontsize=15)\n",
    "plt.ylabel('$ys$', fontsize=15)\n",
    "plt.title('dataset points')\n",
    "plt.grid()\n",
    "plt.legend(loc=2)\n",
    "plt.show()"
   ]
  },
  {
   "cell_type": "code",
   "execution_count": 66,
   "metadata": {},
   "outputs": [],
   "source": [
    "# def net (both x and w must be arrays)\n",
    "def nn(x, w):\n",
    "    return x.dot(w.T)\n",
    "\n",
    "def cost(y, t):\n",
    "    return ((t - y)**2).sum()\n",
    "\n",
    "# define the gradient function.\n",
    "def gradient(w, x, t): \n",
    "    return (nn(x, w) - t).T * x\n",
    "\n",
    "# define the update function delta w (the update should be a vector)\n",
    "def delta_w(w_k, x, t, learning_rate):\n",
    "    return learning_rate * gradient(w_k, x, t)\n",
    "\n",
    "def x_to_vec(x, deg):\n",
    "    deg_matrix = np.zeros((len(x), deg))\n",
    "    for i, elem in enumerate(deg_matrix):\n",
    "        for j, _ in enumerate(elem):\n",
    "            deg_matrix[i][j] = x[i] ** j\n",
    "    return deg_matrix\n",
    "            "
   ]
  },
  {
   "cell_type": "code",
   "execution_count": 72,
   "metadata": {},
   "outputs": [
    {
     "name": "stdout",
     "output_type": "stream",
     "text": [
      "[ 1.         -0.46260246  0.21400104]\n",
      "[ 1.         -0.46260246  0.21400104]\n",
      "[ 1.         -0.46260246  0.21400104]\n",
      "[ 1.         -0.46260246  0.21400104]\n",
      "[ 1.         -0.46260246  0.21400104]\n",
      "[ 1.         -0.46260246  0.21400104]\n",
      "[ 1.         -0.46260246  0.21400104]\n",
      "[ 1.         -0.46260246  0.21400104]\n",
      "[ 1.         -0.46260246  0.21400104]\n",
      "[ 1.         -0.46260246  0.21400104]\n",
      "[ 1.         -0.46260246  0.21400104]\n",
      "[ 1.         -0.46260246  0.21400104]\n",
      "[ 1.         -0.46260246  0.21400104]\n",
      "[ 1.         -0.46260246  0.21400104]\n",
      "[ 1.         -0.46260246  0.21400104]\n",
      "[ 1.         -0.46260246  0.21400104]\n",
      "[ 1.         -0.46260246  0.21400104]\n",
      "[ 1.         -0.46260246  0.21400104]\n",
      "[ 1.         -0.46260246  0.21400104]\n",
      "[ 1.         -0.46260246  0.21400104]\n"
     ]
    }
   ],
   "source": [
    "deg = 3\n",
    "iterations = 20\n",
    "learning_rate = 0.1\n",
    "\n",
    "w = np.asmatrix([0.1, 0.2, 0.3])\n",
    "x_vec = x_to_vec(xs, deg)\n",
    "w_iter = [w]\n",
    "for i in range(iterations):\n",
    "    for single_x_vec in x_vec:\n",
    "        print(single_x_vec)\n",
    "        dw = delta_w(w, single_x_vec, ys, learning_rate)\n",
    "        #print(dw)\n",
    "        break\n",
    "    "
   ]
  },
  {
   "cell_type": "code",
   "execution_count": null,
   "metadata": {},
   "outputs": [],
   "source": []
  }
 ],
 "metadata": {
  "kernelspec": {
   "display_name": "Python 2",
   "language": "python",
   "name": "python2"
  },
  "language_info": {
   "codemirror_mode": {
    "name": "ipython",
    "version": 2
   },
   "file_extension": ".py",
   "mimetype": "text/x-python",
   "name": "python",
   "nbconvert_exporter": "python",
   "pygments_lexer": "ipython2",
   "version": "2.7.12"
  }
 },
 "nbformat": 4,
 "nbformat_minor": 2
}
